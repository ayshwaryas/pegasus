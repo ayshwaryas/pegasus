{
 "cells": [
  {
   "cell_type": "markdown",
   "metadata": {},
   "source": [
    "# Regress Out Tutorial\n",
    "\n",
    "Author: [Yiming Yang](https://github.com/yihming)<br />\n",
    "Date: 2020-09-01<br />\n",
    "Notebook Source: [regress_out.ipynb](https://raw.githubusercontent.com/klarman-cell-observatory/pegasus/master/notebooks/regress_out.ipynb)\n",
    "\n",
    "This tutorial shows how to regress out cell cycle using Pegasus. The dataset used contains human bone marrow data collected from 8 donors. It's stored at https://storage.googleapis.com/terra-featured-workspaces/Cumulus/MantonBM_nonmix_subset.zarr.zip."
   ]
  },
  {
   "cell_type": "markdown",
   "metadata": {},
   "source": [
    "## Cell-Cycle Scores\n",
    "\n",
    "First, load the data:"
   ]
  },
  {
   "cell_type": "code",
   "execution_count": null,
   "metadata": {},
   "outputs": [],
   "source": [
    "import pegasus as pg\n",
    "\n",
    "data = pg.read_input(\"MantonBM_nonmix_subset.zarr.zip\")\n",
    "data"
   ]
  },
  {
   "cell_type": "markdown",
   "metadata": {},
   "source": [
    "We need to do some preprocessing work before calculating the cell-cycle scores:"
   ]
  },
  {
   "cell_type": "code",
   "execution_count": null,
   "metadata": {},
   "outputs": [],
   "source": [
    "pg.qc_metrics(data, percent_mito=10)\n",
    "pg.filter_data(data)\n",
    "pg.identify_robust_genes(data)\n",
    "pg.log_norm(data)"
   ]
  },
  {
   "cell_type": "markdown",
   "metadata": {},
   "source": [
    "Now calculate cell-cycle scores using `calc_signature_score` (see [here](https://pegasus.readthedocs.io/en/latest/api/pegasus.calc_signature_score.html) for its documentation):"
   ]
  },
  {
   "cell_type": "code",
   "execution_count": null,
   "metadata": {},
   "outputs": [],
   "source": [
    "pg.calc_signature_score(data, 'cell_cycle_human')"
   ]
  },
  {
   "cell_type": "markdown",
   "metadata": {},
   "source": [
    "By setting `cell_cycle_human`, Pegasus uses the cell cycle genes defined in [[Tirosh et al. 2015]](https://science.sciencemag.org/content/352/6282/189) for calculation. We can fetch these genes from Pegasus pre-stored file (https://raw.githubusercontent.com/klarman-cell-observatory/pegasus/master/pegasus/data_files/cell_cycle_human.gmt), as we'll need them in the following sections:"
   ]
  },
  {
   "cell_type": "code",
   "execution_count": null,
   "metadata": {},
   "outputs": [],
   "source": [
    "cell_cycle_genes = []\n",
    "with open(\"cell_cycle_human.gmt\", 'r') as f:\n",
    "    for line in f:\n",
    "        cell_cycle_genes += line.strip().split('\\t')[2:]"
   ]
  },
  {
   "cell_type": "markdown",
   "metadata": {},
   "source": [
    "Moreover, the predicted phases of cells are stored in `data.obs` field with key `predicted_phase`:"
   ]
  },
  {
   "cell_type": "code",
   "execution_count": null,
   "metadata": {},
   "outputs": [],
   "source": [
    "data.obs['predicted_phase'].value_counts()"
   ]
  },
  {
   "cell_type": "markdown",
   "metadata": {},
   "source": [
    "And the corresponding scores are in `data.obs['G1/S']` and `data.obs['G2/M']`."
   ]
  },
  {
   "cell_type": "markdown",
   "metadata": {},
   "source": [
    "## Cell Cycle Effects\n",
    "\n",
    "The presence of cell cycle effects can be shown in terms of Principal Components (PC), which are calculated from gene-count matrix with respect to cell cycle genes:"
   ]
  },
  {
   "cell_type": "code",
   "execution_count": null,
   "metadata": {},
   "outputs": [],
   "source": [
    "data_cc_genes = data[:, cell_cycle_genes].copy()\n",
    "pg.pca(data_cc_genes)\n",
    "data.obsm['X_pca'] = data_cc_genes.obsm['X_pca']"
   ]
  },
  {
   "cell_type": "markdown",
   "metadata": {},
   "source": [
    "After achieving PCA result, we can generate a scatter plot of first two PCs with predicted phase being the colors for cells:"
   ]
  },
  {
   "cell_type": "code",
   "execution_count": null,
   "metadata": {},
   "outputs": [],
   "source": [
    "pg.scatter(data, attrs='predicted_phase', basis='pca', dpi=130)"
   ]
  },
  {
   "cell_type": "markdown",
   "metadata": {},
   "source": [
    "In this plot, we can see that cells are quite separated due to their phases when cell cycle genes are considered."
   ]
  },
  {
   "cell_type": "markdown",
   "metadata": {},
   "source": [
    "## Regress Out Cell Cycle Effects\n",
    "\n",
    "This section shows how to regress out cell cycle effects.\n",
    "\n",
    "Pegasus performs this regressing out on PCs. After getting the original PCA matrix, it uses the cell-cycle scores for this operation:"
   ]
  },
  {
   "cell_type": "code",
   "execution_count": null,
   "metadata": {},
   "outputs": [],
   "source": [
    "pca_key = pg.pc_regress_out(data, attrs=['G1/S', 'G2/M'])"
   ]
  },
  {
   "cell_type": "markdown",
   "metadata": {},
   "source": [
    "When `pc_regress_out` is finished, the resulting new PCA matrix is stored in `data.obsm['X_pca_regressed']`, with the representation key `'pca_regressed'` returned to variable `pca_key`.\n",
    "\n",
    "Then in downstream analysis, you should assign either `pca_key` or `'pca_regressed'` to `rep` argument of Pegasus functions whenever applicable.\n",
    "\n",
    "Now let's see how PC scatter plot looks on the new PCs:"
   ]
  },
  {
   "cell_type": "code",
   "execution_count": null,
   "metadata": {},
   "outputs": [],
   "source": [
    "pg.scatter(data, attrs=['predicted_phase'], basis=pca_key, dpi=130)"
   ]
  },
  {
   "cell_type": "markdown",
   "metadata": {},
   "source": [
    "You can see that after regressing out cell-cycle scores, no evident cell-cycle effects are observed."
   ]
  }
 ],
 "metadata": {
  "kernelspec": {
   "display_name": "Python 3",
   "language": "python",
   "name": "python3"
  },
  "language_info": {
   "codemirror_mode": {
    "name": "ipython",
    "version": 3
   },
   "file_extension": ".py",
   "mimetype": "text/x-python",
   "name": "python",
   "nbconvert_exporter": "python",
   "pygments_lexer": "ipython3",
   "version": "3.7.7"
  }
 },
 "nbformat": 4,
 "nbformat_minor": 4
}
